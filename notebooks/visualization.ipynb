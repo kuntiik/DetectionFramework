{
 "cells": [
  {
   "cell_type": "code",
   "execution_count": 2,
   "metadata": {},
   "outputs": [],
   "source": [
    "from src.datamodules.dentalcarries_datamodule import DentalCarriesDataModule"
   ]
  },
  {
   "cell_type": "code",
   "execution_count": 3,
   "metadata": {},
   "outputs": [],
   "source": [
    "dm = DentalCarriesDataModule('/home/kuntik/carries_dataset/images', '/home/kuntik/carries_dataset/annotations.json', 4)"
   ]
  },
  {
   "cell_type": "code",
   "execution_count": 4,
   "metadata": {},
   "outputs": [
    {
     "name": "stdout",
     "output_type": "stream",
     "text": [
      "loading annotations into memory...\n",
      "Done (t=0.01s)\n",
      "creating index...\n",
      "index created!\n",
      "loading annotations into memory...\n",
      "Done (t=0.01s)\n",
      "creating index...\n",
      "index created!\n",
      "loading annotations into memory...\n",
      "Done (t=0.01s)\n",
      "creating index...\n",
      "index created!\n"
     ]
    }
   ],
   "source": [
    "dm.setup()"
   ]
  },
  {
   "cell_type": "code",
   "execution_count": 7,
   "metadata": {},
   "outputs": [
    {
     "data": {
      "text/plain": [
       "(tensor([[[-1.3255, -1.3255, -1.3255,  ..., -1.3255, -1.3255, -1.3255],\n",
       "          [-1.3255, -1.3255, -1.3255,  ..., -1.3255, -1.3255, -1.3255],\n",
       "          [-1.3255, -1.3255, -1.3255,  ..., -1.3255, -1.3255, -1.3255],\n",
       "          ...,\n",
       "          [-1.3255, -1.3255, -1.3255,  ..., -1.3255, -1.3255, -1.3255],\n",
       "          [-1.3255, -1.3255, -1.3255,  ..., -1.3255, -1.3255, -1.3255],\n",
       "          [-1.3255, -1.3255, -1.3255,  ..., -1.3255, -1.3255, -1.3255]],\n",
       " \n",
       "         [[-1.3255, -1.3255, -1.3255,  ..., -1.3255, -1.3255, -1.3255],\n",
       "          [-1.3255, -1.3255, -1.3255,  ..., -1.3255, -1.3255, -1.3255],\n",
       "          [-1.3255, -1.3255, -1.3255,  ..., -1.3255, -1.3255, -1.3255],\n",
       "          ...,\n",
       "          [-1.3255, -1.3255, -1.3255,  ..., -1.3255, -1.3255, -1.3255],\n",
       "          [-1.3255, -1.3255, -1.3255,  ..., -1.3255, -1.3255, -1.3255],\n",
       "          [-1.3255, -1.3255, -1.3255,  ..., -1.3255, -1.3255, -1.3255]],\n",
       " \n",
       "         [[-1.3255, -1.3255, -1.3255,  ..., -1.3255, -1.3255, -1.3255],\n",
       "          [-1.3255, -1.3255, -1.3255,  ..., -1.3255, -1.3255, -1.3255],\n",
       "          [-1.3255, -1.3255, -1.3255,  ..., -1.3255, -1.3255, -1.3255],\n",
       "          ...,\n",
       "          [-1.3255, -1.3255, -1.3255,  ..., -1.3255, -1.3255, -1.3255],\n",
       "          [-1.3255, -1.3255, -1.3255,  ..., -1.3255, -1.3255, -1.3255],\n",
       "          [-1.3255, -1.3255, -1.3255,  ..., -1.3255, -1.3255, -1.3255]]]),\n",
       " {'boxes': tensor([[492.2742, 476.9942, 692.2164, 653.9788],\n",
       "          [  9.5229, 538.6246,  50.7285, 584.6592],\n",
       "          [151.0556, 204.8937, 184.7037, 239.8209],\n",
       "          [576.3469, 172.1245, 760.4526, 267.6575],\n",
       "          [285.9708, 129.8981, 432.4786, 303.3011],\n",
       "          [284.6131, 553.4406, 317.5016, 604.6345]], dtype=torch.float64),\n",
       "  'labels': tensor([1, 1, 1, 1, 1, 1])})"
      ]
     },
     "execution_count": 7,
     "metadata": {},
     "output_type": "execute_result"
    }
   ],
   "source": [
    "val_dl = dm.val_dataloader()\n",
    "val_ds = dm.val_dataset\n",
    "val_ds[0]\n"
   ]
  }
 ],
 "metadata": {
  "interpreter": {
   "hash": "71de01282598e27619eb7454810b6a910f6c3b14352a03ff19e82f1789bff524"
  },
  "kernelspec": {
   "display_name": "Python 3.8.12 64-bit ('ice': conda)",
   "language": "python",
   "name": "python3"
  },
  "language_info": {
   "codemirror_mode": {
    "name": "ipython",
    "version": 3
   },
   "file_extension": ".py",
   "mimetype": "text/x-python",
   "name": "python",
   "nbconvert_exporter": "python",
   "pygments_lexer": "ipython3",
   "version": "3.8.12"
  },
  "orig_nbformat": 4
 },
 "nbformat": 4,
 "nbformat_minor": 2
}
